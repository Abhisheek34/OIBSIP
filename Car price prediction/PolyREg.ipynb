{
 "cells": [
  {
   "cell_type": "code",
   "execution_count": 1,
   "id": "7001134b-8d02-4507-936b-d82dd659cfcc",
   "metadata": {},
   "outputs": [],
   "source": [
    "import pandas as pd\n",
    "import numpy as np\n",
    "import matplotlib.pyplot as plt \n",
    "import seaborn as sns"
   ]
  },
  {
   "cell_type": "code",
   "execution_count": 3,
   "id": "3eaaac92-8c81-462a-bcc7-921f50beee97",
   "metadata": {},
   "outputs": [],
   "source": [
    "df=pd.read_csv('Cleaned_data.csv')"
   ]
  },
  {
   "cell_type": "code",
   "execution_count": 4,
   "id": "8bc283c1-64bb-4798-9216-7f21dcef8457",
   "metadata": {},
   "outputs": [
    {
     "data": {
      "text/html": [
       "<div>\n",
       "<style scoped>\n",
       "    .dataframe tbody tr th:only-of-type {\n",
       "        vertical-align: middle;\n",
       "    }\n",
       "\n",
       "    .dataframe tbody tr th {\n",
       "        vertical-align: top;\n",
       "    }\n",
       "\n",
       "    .dataframe thead th {\n",
       "        text-align: right;\n",
       "    }\n",
       "</style>\n",
       "<table border=\"1\" class=\"dataframe\">\n",
       "  <thead>\n",
       "    <tr style=\"text-align: right;\">\n",
       "      <th></th>\n",
       "      <th>Car_Name</th>\n",
       "      <th>Year</th>\n",
       "      <th>Selling_Price</th>\n",
       "      <th>Present_Price</th>\n",
       "      <th>Driven_kms</th>\n",
       "      <th>Fuel_Type</th>\n",
       "      <th>Selling_type</th>\n",
       "      <th>Transmission</th>\n",
       "      <th>Owner</th>\n",
       "    </tr>\n",
       "  </thead>\n",
       "  <tbody>\n",
       "    <tr>\n",
       "      <th>0</th>\n",
       "      <td>ritz</td>\n",
       "      <td>2014</td>\n",
       "      <td>3.35</td>\n",
       "      <td>5.59</td>\n",
       "      <td>27000</td>\n",
       "      <td>2</td>\n",
       "      <td>0</td>\n",
       "      <td>1</td>\n",
       "      <td>0</td>\n",
       "    </tr>\n",
       "    <tr>\n",
       "      <th>1</th>\n",
       "      <td>sx4</td>\n",
       "      <td>2013</td>\n",
       "      <td>4.75</td>\n",
       "      <td>9.54</td>\n",
       "      <td>43000</td>\n",
       "      <td>1</td>\n",
       "      <td>0</td>\n",
       "      <td>1</td>\n",
       "      <td>0</td>\n",
       "    </tr>\n",
       "    <tr>\n",
       "      <th>2</th>\n",
       "      <td>ciaz</td>\n",
       "      <td>2017</td>\n",
       "      <td>7.25</td>\n",
       "      <td>9.85</td>\n",
       "      <td>6900</td>\n",
       "      <td>2</td>\n",
       "      <td>0</td>\n",
       "      <td>1</td>\n",
       "      <td>0</td>\n",
       "    </tr>\n",
       "    <tr>\n",
       "      <th>3</th>\n",
       "      <td>wagon r</td>\n",
       "      <td>2011</td>\n",
       "      <td>2.85</td>\n",
       "      <td>4.15</td>\n",
       "      <td>5200</td>\n",
       "      <td>2</td>\n",
       "      <td>0</td>\n",
       "      <td>1</td>\n",
       "      <td>0</td>\n",
       "    </tr>\n",
       "    <tr>\n",
       "      <th>4</th>\n",
       "      <td>swift</td>\n",
       "      <td>2014</td>\n",
       "      <td>4.60</td>\n",
       "      <td>6.87</td>\n",
       "      <td>42450</td>\n",
       "      <td>1</td>\n",
       "      <td>0</td>\n",
       "      <td>1</td>\n",
       "      <td>0</td>\n",
       "    </tr>\n",
       "  </tbody>\n",
       "</table>\n",
       "</div>"
      ],
      "text/plain": [
       "  Car_Name  Year  Selling_Price  Present_Price  Driven_kms  Fuel_Type  \\\n",
       "0     ritz  2014           3.35           5.59       27000          2   \n",
       "1      sx4  2013           4.75           9.54       43000          1   \n",
       "2     ciaz  2017           7.25           9.85        6900          2   \n",
       "3  wagon r  2011           2.85           4.15        5200          2   \n",
       "4    swift  2014           4.60           6.87       42450          1   \n",
       "\n",
       "   Selling_type  Transmission  Owner  \n",
       "0             0             1      0  \n",
       "1             0             1      0  \n",
       "2             0             1      0  \n",
       "3             0             1      0  \n",
       "4             0             1      0  "
      ]
     },
     "execution_count": 4,
     "metadata": {},
     "output_type": "execute_result"
    }
   ],
   "source": [
    "df.head()"
   ]
  },
  {
   "cell_type": "code",
   "execution_count": 5,
   "id": "e032115d-9eff-40c5-8fbc-c6559f027bab",
   "metadata": {},
   "outputs": [],
   "source": [
    "X = df.drop(['Car_Name','Selling_Price'],axis=1)\n",
    "y = df['Selling_Price']"
   ]
  },
  {
   "cell_type": "markdown",
   "id": "3618c7af-0257-4346-9771-0662d7d8bf65",
   "metadata": {},
   "source": [
    "## Train test split"
   ]
  },
  {
   "cell_type": "code",
   "execution_count": 6,
   "id": "3b966b1f-1d49-4e07-996b-969ad61d4709",
   "metadata": {},
   "outputs": [],
   "source": [
    "from sklearn.model_selection import train_test_split\n",
    "X_train,X_test,y_train,y_test=train_test_split(X,y,test_size=0.2, random_state=42)"
   ]
  },
  {
   "cell_type": "markdown",
   "id": "b82ab352-93d1-496c-aa22-e0a5178ac4ee",
   "metadata": {},
   "source": [
    "# modelling"
   ]
  },
  {
   "cell_type": "code",
   "execution_count": 13,
   "id": "d89e99d3-d5ce-4d3f-9f71-91a10ab35aac",
   "metadata": {},
   "outputs": [],
   "source": [
    "from sklearn.preprocessing import PolynomialFeatures\n",
    "\n",
    "polynomial_converter=PolynomialFeatures(degree=2,include_bias=False)\n",
    "\n",
    "X_train_poly=pd.DataFrame(polynomial_converter.fit_transform(X_train))\n",
    "X_test_poly=pd.DataFrame(polynomial_converter.fit_transform(X_test))"
   ]
  },
  {
   "cell_type": "code",
   "execution_count": 17,
   "id": "9987557f-727c-4a78-8ede-d6027c58a040",
   "metadata": {},
   "outputs": [
    {
     "name": "stdout",
     "output_type": "stream",
     "text": [
      "Coeffiecient :  [-9.71192559e+01 -1.33207071e+02 -6.47528852e-04  9.42322375e+00\n",
      " -8.52273144e+01  5.06400246e+01 -9.61903397e-01  2.41105393e-02\n",
      "  6.65163869e-02  3.26707547e-07 -2.94393027e-03  8.05760800e-02\n",
      " -5.14691161e-02  1.15297601e-02 -6.50477006e-06 -1.22603696e-06\n",
      " -1.44280965e-01  2.43889396e-01  1.15505386e-01 -2.61472751e+00\n",
      "  7.01163560e-11 -1.20292525e-05 -3.59503766e-06  3.72357479e-06\n",
      " -2.45290517e-06 -9.03010025e-01  2.59832337e+00  1.96142643e-01\n",
      " -2.49163266e+00 -8.52273140e+01  2.10264881e+00 -1.35575944e+01\n",
      "  5.06400246e+01 -9.61902272e-01 -9.61902272e-01]\n",
      "Intercept :  97800.4976331123\n"
     ]
    }
   ],
   "source": [
    "from sklearn.linear_model import LinearRegression\n",
    "model=LinearRegression()\n",
    "model.fit(X_train_poly,y_train)\n",
    "\n",
    "print(\"Coeffiecient : \",model.coef_)\n",
    "\n",
    "print(\"Intercept : \",model.intercept_ )"
   ]
  },
  {
   "cell_type": "markdown",
   "id": "25bf7ca6-90cc-4e70-a3f8-0bbbc8bbd3fd",
   "metadata": {},
   "source": [
    "# evaluation"
   ]
  },
  {
   "cell_type": "code",
   "execution_count": 18,
   "id": "bceb7e65-28cf-47d1-804f-f007938c42bd",
   "metadata": {},
   "outputs": [
    {
     "name": "stdout",
     "output_type": "stream",
     "text": [
      "Train r2 : 0.9819544534687428\n",
      "Train RMSE : 0.6649844038080355\n",
      "CV Score :  -3.8111361521950697\n"
     ]
    }
   ],
   "source": [
    "#Prediction on train data\n",
    "ypred_train=model.predict(X_train_poly)\n",
    "\n",
    "#Evaluation on train data\n",
    "from sklearn.metrics import r2_score, mean_squared_error\n",
    "print('Train r2 :', r2_score(y_train,ypred_train))\n",
    "\n",
    "print(\"Train RMSE :\", np.sqrt(mean_squared_error(y_train,ypred_train)))\n",
    "\n",
    "from sklearn.model_selection import cross_val_score\n",
    "print(\"CV Score : \", cross_val_score(model,X_train_poly,y_train, cv=5, scoring='r2').mean())"
   ]
  },
  {
   "cell_type": "code",
   "execution_count": 19,
   "id": "c35de2ae-4b45-403b-ba7f-29a751ec2fcc",
   "metadata": {},
   "outputs": [
    {
     "name": "stdout",
     "output_type": "stream",
     "text": [
      "Test r2 : -21.954597125277388\n",
      "Test RMSE : 24.323134068520908\n"
     ]
    }
   ],
   "source": [
    "#Prediction on test data\n",
    "ypred_test=model.predict(X_test_poly)\n",
    "\n",
    "from sklearn.metrics import r2_score\n",
    "print('Test r2 :', r2_score(y_test,ypred_test))\n",
    "\n",
    "print(\"Test RMSE :\", np.sqrt(mean_squared_error(y_test,ypred_test)))"
   ]
  },
  {
   "cell_type": "code",
   "execution_count": null,
   "id": "4880b367-693b-4563-912a-9f2baacbe9f3",
   "metadata": {},
   "outputs": [],
   "source": []
  },
  {
   "cell_type": "code",
   "execution_count": null,
   "id": "49b78876-2a4a-4324-becc-9497206acc3a",
   "metadata": {},
   "outputs": [],
   "source": []
  }
 ],
 "metadata": {
  "kernelspec": {
   "display_name": "Python 3 (ipykernel)",
   "language": "python",
   "name": "python3"
  },
  "language_info": {
   "codemirror_mode": {
    "name": "ipython",
    "version": 3
   },
   "file_extension": ".py",
   "mimetype": "text/x-python",
   "name": "python",
   "nbconvert_exporter": "python",
   "pygments_lexer": "ipython3",
   "version": "3.11.1"
  }
 },
 "nbformat": 4,
 "nbformat_minor": 5
}
