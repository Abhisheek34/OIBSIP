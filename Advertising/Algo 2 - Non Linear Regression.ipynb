{
 "cells": [
  {
   "cell_type": "markdown",
   "id": "b9e09ebe-f442-459d-aeda-dc46424c4163",
   "metadata": {},
   "source": [
    "# Regularization"
   ]
  },
  {
   "cell_type": "code",
   "execution_count": 1,
   "id": "f85d1a33-2445-41d0-9f43-92dac233f4fe",
   "metadata": {},
   "outputs": [],
   "source": [
    "import pandas as pd\n",
    "import numpy as np\n",
    "import matplotlib.pyplot as plt \n",
    "import seaborn as sns"
   ]
  },
  {
   "cell_type": "code",
   "execution_count": 2,
   "id": "7fdd984d-c0a9-4379-805a-c4ff11e83e56",
   "metadata": {},
   "outputs": [],
   "source": [
    "df=pd.read_excel('cleaned_data.xlsx')"
   ]
  },
  {
   "cell_type": "code",
   "execution_count": 3,
   "id": "8acca780-2015-4e96-a3c4-37d723b18c0a",
   "metadata": {},
   "outputs": [
    {
     "data": {
      "text/html": [
       "<div>\n",
       "<style scoped>\n",
       "    .dataframe tbody tr th:only-of-type {\n",
       "        vertical-align: middle;\n",
       "    }\n",
       "\n",
       "    .dataframe tbody tr th {\n",
       "        vertical-align: top;\n",
       "    }\n",
       "\n",
       "    .dataframe thead th {\n",
       "        text-align: right;\n",
       "    }\n",
       "</style>\n",
       "<table border=\"1\" class=\"dataframe\">\n",
       "  <thead>\n",
       "    <tr style=\"text-align: right;\">\n",
       "      <th></th>\n",
       "      <th>Sales</th>\n",
       "      <th>total_spend</th>\n",
       "    </tr>\n",
       "  </thead>\n",
       "  <tbody>\n",
       "    <tr>\n",
       "      <th>0</th>\n",
       "      <td>22.1</td>\n",
       "      <td>337.1</td>\n",
       "    </tr>\n",
       "    <tr>\n",
       "      <th>1</th>\n",
       "      <td>10.4</td>\n",
       "      <td>128.9</td>\n",
       "    </tr>\n",
       "    <tr>\n",
       "      <th>2</th>\n",
       "      <td>9.3</td>\n",
       "      <td>132.4</td>\n",
       "    </tr>\n",
       "    <tr>\n",
       "      <th>3</th>\n",
       "      <td>18.5</td>\n",
       "      <td>251.3</td>\n",
       "    </tr>\n",
       "    <tr>\n",
       "      <th>4</th>\n",
       "      <td>12.9</td>\n",
       "      <td>250.0</td>\n",
       "    </tr>\n",
       "  </tbody>\n",
       "</table>\n",
       "</div>"
      ],
      "text/plain": [
       "   Sales  total_spend\n",
       "0   22.1        337.1\n",
       "1   10.4        128.9\n",
       "2    9.3        132.4\n",
       "3   18.5        251.3\n",
       "4   12.9        250.0"
      ]
     },
     "execution_count": 3,
     "metadata": {},
     "output_type": "execute_result"
    }
   ],
   "source": [
    "df.head()"
   ]
  },
  {
   "cell_type": "code",
   "execution_count": 4,
   "id": "c2bac559-6eb6-4635-aae9-1a75ac31adda",
   "metadata": {},
   "outputs": [],
   "source": [
    "X=df[['total_spend']]\n",
    "y=df['Sales']"
   ]
  },
  {
   "cell_type": "code",
   "execution_count": 5,
   "id": "dc206660-dd9e-4e99-a4b4-0f9ec594bd96",
   "metadata": {},
   "outputs": [],
   "source": [
    "# train test split\n",
    "\n",
    "from sklearn.model_selection import train_test_split"
   ]
  },
  {
   "cell_type": "code",
   "execution_count": 6,
   "id": "e955e01b-340e-4d3c-aad6-5e0ce9ac40e7",
   "metadata": {},
   "outputs": [],
   "source": [
    "X_train,X_test,y_train,y_test=train_test_split(X,y,test_size=0.2, random_state=2)"
   ]
  },
  {
   "cell_type": "markdown",
   "id": "b7e46539-8caf-40c6-9724-48507007ddcb",
   "metadata": {},
   "source": [
    "# Step 4 : Modelling"
   ]
  },
  {
   "cell_type": "code",
   "execution_count": 7,
   "id": "87d09872-ef80-4abc-94bd-1554a44e3bbe",
   "metadata": {},
   "outputs": [],
   "source": [
    "from sklearn.preprocessing import PolynomialFeatures\n",
    "\n",
    "polynomial_converter=PolynomialFeatures(degree=3,include_bias=False)\n",
    "\n",
    "X_train_poly=pd.DataFrame(polynomial_converter.fit_transform(X_train))\n",
    "X_test_poly=pd.DataFrame(polynomial_converter.fit_transform(X_test))\n"
   ]
  },
  {
   "cell_type": "code",
   "execution_count": 8,
   "id": "f93fe7f8-c1fb-461b-b46a-a4fca3021679",
   "metadata": {},
   "outputs": [
    {
     "name": "stdout",
     "output_type": "stream",
     "text": [
      "Coeffiecient :  [ 6.62854182e-02 -9.61804834e-05  1.66520026e-07]\n",
      "Intercept :  3.4305141526802725\n"
     ]
    }
   ],
   "source": [
    "from sklearn.linear_model import LinearRegression\n",
    "model=LinearRegression()\n",
    "model.fit(X_train_poly,y_train)\n",
    "\n",
    "print(\"Coeffiecient : \",model.coef_)\n",
    "print(\"Intercept : \",model.intercept_ )"
   ]
  },
  {
   "cell_type": "markdown",
   "id": "0ae9eb5d-15b9-4cd4-b73b-276681320944",
   "metadata": {},
   "source": [
    "# Step 5 : Evaluation"
   ]
  },
  {
   "cell_type": "code",
   "execution_count": 9,
   "id": "0240b62c-06a6-4030-94c4-7b7532a91f73",
   "metadata": {},
   "outputs": [
    {
     "name": "stdout",
     "output_type": "stream",
     "text": [
      "Train r2 : 0.8162547370874192\n",
      "Train RMSE : 2.3126709184811314\n"
     ]
    }
   ],
   "source": [
    "#Prediction on train data\n",
    "ypred_train=model.predict(X_train_poly)\n",
    "\n",
    "#Evaluation on train data\n",
    "from sklearn.metrics import r2_score, mean_squared_error\n",
    "print('Train r2 :', r2_score(y_train,ypred_train))\n",
    "\n",
    "print(\"Train RMSE :\", np.sqrt(mean_squared_error(y_train,ypred_train)))"
   ]
  },
  {
   "cell_type": "markdown",
   "id": "c69df586-c7c9-4080-937e-404a4705f5c4",
   "metadata": {},
   "source": [
    "**Cross Validation Score**"
   ]
  },
  {
   "cell_type": "code",
   "execution_count": 10,
   "id": "801a08cf-dc7c-46ad-9d9f-973158480b8a",
   "metadata": {},
   "outputs": [
    {
     "name": "stdout",
     "output_type": "stream",
     "text": [
      "CV Score :  0.8002243458997128\n"
     ]
    }
   ],
   "source": [
    "from sklearn.model_selection import cross_val_score\n",
    "print(\"CV Score : \", cross_val_score(model,X_train_poly,y_train, cv=5, scoring='r2').mean())"
   ]
  },
  {
   "cell_type": "markdown",
   "id": "871eecfc-6b6f-44fb-bc4c-e14d854156a1",
   "metadata": {},
   "source": [
    "**Test R2 and RMSE**"
   ]
  },
  {
   "cell_type": "code",
   "execution_count": 11,
   "id": "755e5118-8a9b-492e-bb50-a34f1be2842d",
   "metadata": {},
   "outputs": [
    {
     "name": "stdout",
     "output_type": "stream",
     "text": [
      "Test r2 : 0.3480208378813351\n",
      "Test RMSE : 3.4801514667136986\n"
     ]
    }
   ],
   "source": [
    "#Prediction on test data\n",
    "ypred_test=model.predict(X_test_poly)\n",
    "\n",
    "from sklearn.metrics import r2_score\n",
    "print('Test r2 :', r2_score(y_test,ypred_test))\n",
    "\n",
    "print(\"Test RMSE :\", np.sqrt(mean_squared_error(y_test,ypred_test)))"
   ]
  },
  {
   "cell_type": "markdown",
   "id": "d910bfb0-f97d-4906-bad6-9e89d8a5a73b",
   "metadata": {},
   "source": [
    "## Checking p value \n",
    "\n",
    "- must be p<0.05"
   ]
  },
  {
   "cell_type": "code",
   "execution_count": 12,
   "id": "56597425-2b53-4de3-b7f3-81e0377d4567",
   "metadata": {},
   "outputs": [
    {
     "data": {
      "text/html": [
       "<table class=\"simpletable\">\n",
       "<caption>OLS Regression Results</caption>\n",
       "<tr>\n",
       "  <th>Dep. Variable:</th>            <td>y</td>        <th>  R-squared:         </th> <td>   0.753</td>\n",
       "</tr>\n",
       "<tr>\n",
       "  <th>Model:</th>                   <td>OLS</td>       <th>  Adj. R-squared:    </th> <td>   0.752</td>\n",
       "</tr>\n",
       "<tr>\n",
       "  <th>Method:</th>             <td>Least Squares</td>  <th>  F-statistic:       </th> <td>   603.4</td>\n",
       "</tr>\n",
       "<tr>\n",
       "  <th>Date:</th>             <td>Thu, 24 Apr 2025</td> <th>  Prob (F-statistic):</th> <td>5.06e-62</td>\n",
       "</tr>\n",
       "<tr>\n",
       "  <th>Time:</th>                 <td>01:42:53</td>     <th>  Log-Likelihood:    </th> <td> -473.88</td>\n",
       "</tr>\n",
       "<tr>\n",
       "  <th>No. Observations:</th>      <td>   200</td>      <th>  AIC:               </th> <td>   951.8</td>\n",
       "</tr>\n",
       "<tr>\n",
       "  <th>Df Residuals:</th>          <td>   198</td>      <th>  BIC:               </th> <td>   958.4</td>\n",
       "</tr>\n",
       "<tr>\n",
       "  <th>Df Model:</th>              <td>     1</td>      <th>                     </th>     <td> </td>   \n",
       "</tr>\n",
       "<tr>\n",
       "  <th>Covariance Type:</th>      <td>nonrobust</td>    <th>                     </th>     <td> </td>   \n",
       "</tr>\n",
       "</table>\n",
       "<table class=\"simpletable\">\n",
       "<tr>\n",
       "      <td></td>         <th>coef</th>     <th>std err</th>      <th>t</th>      <th>P>|t|</th>  <th>[0.025</th>    <th>0.975]</th>  \n",
       "</tr>\n",
       "<tr>\n",
       "  <th>Intercept</th> <td>    4.2430</td> <td>    0.439</td> <td>    9.676</td> <td> 0.000</td> <td>    3.378</td> <td>    5.108</td>\n",
       "</tr>\n",
       "<tr>\n",
       "  <th>X</th>         <td>    0.0487</td> <td>    0.002</td> <td>   24.564</td> <td> 0.000</td> <td>    0.045</td> <td>    0.053</td>\n",
       "</tr>\n",
       "</table>\n",
       "<table class=\"simpletable\">\n",
       "<tr>\n",
       "  <th>Omnibus:</th>       <td> 6.851</td> <th>  Durbin-Watson:     </th> <td>   1.967</td>\n",
       "</tr>\n",
       "<tr>\n",
       "  <th>Prob(Omnibus):</th> <td> 0.033</td> <th>  Jarque-Bera (JB):  </th> <td>   6.692</td>\n",
       "</tr>\n",
       "<tr>\n",
       "  <th>Skew:</th>          <td>-0.373</td> <th>  Prob(JB):          </th> <td>  0.0352</td>\n",
       "</tr>\n",
       "<tr>\n",
       "  <th>Kurtosis:</th>      <td> 3.495</td> <th>  Cond. No.          </th> <td>    528.</td>\n",
       "</tr>\n",
       "</table><br/><br/>Notes:<br/>[1] Standard Errors assume that the covariance matrix of the errors is correctly specified."
      ],
      "text/latex": [
       "\\begin{center}\n",
       "\\begin{tabular}{lclc}\n",
       "\\toprule\n",
       "\\textbf{Dep. Variable:}    &        y         & \\textbf{  R-squared:         } &     0.753   \\\\\n",
       "\\textbf{Model:}            &       OLS        & \\textbf{  Adj. R-squared:    } &     0.752   \\\\\n",
       "\\textbf{Method:}           &  Least Squares   & \\textbf{  F-statistic:       } &     603.4   \\\\\n",
       "\\textbf{Date:}             & Thu, 24 Apr 2025 & \\textbf{  Prob (F-statistic):} &  5.06e-62   \\\\\n",
       "\\textbf{Time:}             &     01:42:53     & \\textbf{  Log-Likelihood:    } &   -473.88   \\\\\n",
       "\\textbf{No. Observations:} &         200      & \\textbf{  AIC:               } &     951.8   \\\\\n",
       "\\textbf{Df Residuals:}     &         198      & \\textbf{  BIC:               } &     958.4   \\\\\n",
       "\\textbf{Df Model:}         &           1      & \\textbf{                     } &             \\\\\n",
       "\\textbf{Covariance Type:}  &    nonrobust     & \\textbf{                     } &             \\\\\n",
       "\\bottomrule\n",
       "\\end{tabular}\n",
       "\\begin{tabular}{lcccccc}\n",
       "                   & \\textbf{coef} & \\textbf{std err} & \\textbf{t} & \\textbf{P$> |$t$|$} & \\textbf{[0.025} & \\textbf{0.975]}  \\\\\n",
       "\\midrule\n",
       "\\textbf{Intercept} &       4.2430  &        0.439     &     9.676  &         0.000        &        3.378    &        5.108     \\\\\n",
       "\\textbf{X}         &       0.0487  &        0.002     &    24.564  &         0.000        &        0.045    &        0.053     \\\\\n",
       "\\bottomrule\n",
       "\\end{tabular}\n",
       "\\begin{tabular}{lclc}\n",
       "\\textbf{Omnibus:}       &  6.851 & \\textbf{  Durbin-Watson:     } &    1.967  \\\\\n",
       "\\textbf{Prob(Omnibus):} &  0.033 & \\textbf{  Jarque-Bera (JB):  } &    6.692  \\\\\n",
       "\\textbf{Skew:}          & -0.373 & \\textbf{  Prob(JB):          } &   0.0352  \\\\\n",
       "\\textbf{Kurtosis:}      &  3.495 & \\textbf{  Cond. No.          } &     528.  \\\\\n",
       "\\bottomrule\n",
       "\\end{tabular}\n",
       "%\\caption{OLS Regression Results}\n",
       "\\end{center}\n",
       "\n",
       "Notes: \\newline\n",
       " [1] Standard Errors assume that the covariance matrix of the errors is correctly specified."
      ],
      "text/plain": [
       "<class 'statsmodels.iolib.summary.Summary'>\n",
       "\"\"\"\n",
       "                            OLS Regression Results                            \n",
       "==============================================================================\n",
       "Dep. Variable:                      y   R-squared:                       0.753\n",
       "Model:                            OLS   Adj. R-squared:                  0.752\n",
       "Method:                 Least Squares   F-statistic:                     603.4\n",
       "Date:                Thu, 24 Apr 2025   Prob (F-statistic):           5.06e-62\n",
       "Time:                        01:42:53   Log-Likelihood:                -473.88\n",
       "No. Observations:                 200   AIC:                             951.8\n",
       "Df Residuals:                     198   BIC:                             958.4\n",
       "Df Model:                           1                                         \n",
       "Covariance Type:            nonrobust                                         \n",
       "==============================================================================\n",
       "                 coef    std err          t      P>|t|      [0.025      0.975]\n",
       "------------------------------------------------------------------------------\n",
       "Intercept      4.2430      0.439      9.676      0.000       3.378       5.108\n",
       "X              0.0487      0.002     24.564      0.000       0.045       0.053\n",
       "==============================================================================\n",
       "Omnibus:                        6.851   Durbin-Watson:                   1.967\n",
       "Prob(Omnibus):                  0.033   Jarque-Bera (JB):                6.692\n",
       "Skew:                          -0.373   Prob(JB):                       0.0352\n",
       "Kurtosis:                       3.495   Cond. No.                         528.\n",
       "==============================================================================\n",
       "\n",
       "Notes:\n",
       "[1] Standard Errors assume that the covariance matrix of the errors is correctly specified.\n",
       "\"\"\""
      ]
     },
     "execution_count": 12,
     "metadata": {},
     "output_type": "execute_result"
    }
   ],
   "source": [
    "import statsmodels.formula.api as smf\n",
    "\n",
    "model1=smf.ols('y~X', data=df).fit()\n",
    "model1.summary()"
   ]
  },
  {
   "cell_type": "code",
   "execution_count": 13,
   "id": "6c1b385d-52a1-443d-8ae7-cb6a7e042e2c",
   "metadata": {},
   "outputs": [
    {
     "data": {
      "image/png": "[encoded data removed]",
      "text/plain": [
       "<Figure size 640x480 with 1 Axes>"
      ]
     },
     "metadata": {},
     "output_type": "display_data"
    }
   ],
   "source": [
    "### Checking all assumptions\n",
    "\n",
    "# Linearity of errors\n",
    "\n",
    "train_error= y_train - ypred_train\n",
    "\n",
    "plt.scatter(y_train, train_error)\n",
    "plt.xlabel(\"observed values\")\n",
    "plt.ylabel(\"fitted values\")\n",
    "plt.show()"
   ]
  },
  {
   "cell_type": "code",
   "execution_count": 14,
   "id": "a380e5c2-3bc4-4244-b660-52c85dec6d38",
   "metadata": {},
   "outputs": [
    {
     "data": {
      "text/plain": [
       "np.float64(-0.2954251518188876)"
      ]
     },
     "execution_count": 14,
     "metadata": {},
     "output_type": "execute_result"
    }
   ],
   "source": [
    "## Normality of errors\n",
    "\n",
    "train_error.skew()"
   ]
  },
  {
   "cell_type": "code",
   "execution_count": 15,
   "id": "1c2e5b60-785c-4d50-9701-82b4199d6391",
   "metadata": {},
   "outputs": [
    {
     "data": {
      "image/png": "[encoded data removed]",
      "text/plain": [
       "<Figure size 640x480 with 1 Axes>"
      ]
     },
     "metadata": {},
     "output_type": "display_data"
    }
   ],
   "source": [
    "# Equal Variance of error\n",
    "\n",
    "plt.scatter(ypred_train,train_error,c='r')\n",
    "plt.axhline(y=0,color='blue')\n",
    "plt.xlabel('fitted values')\n",
    "plt.ylabel('Residuals')\n",
    "plt.show()"
   ]
  },
  {
   "cell_type": "markdown",
   "id": "384305eb-9817-44f5-b99b-d655cc907d24",
   "metadata": {},
   "source": [
    "- uneqal"
   ]
  },
  {
   "cell_type": "code",
   "execution_count": null,
   "id": "388ec978-8ccc-4991-93a2-e927698722ed",
   "metadata": {},
   "outputs": [],
   "source": []
  }
 ],
 "metadata": {
  "kernelspec": {
   "display_name": "Python 3 (ipykernel)",
   "language": "python",
   "name": "python3"
  },
  "language_info": {
   "codemirror_mode": {
    "name": "ipython",
    "version": 3
   },
   "file_extension": ".py",
   "mimetype": "text/x-python",
   "name": "python",
   "nbconvert_exporter": "python",
   "pygments_lexer": "ipython3",
   "version": "3.11.1"
  }
 },
 "nbformat": 4,
 "nbformat_minor": 5
}
